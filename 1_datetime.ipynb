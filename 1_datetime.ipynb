{
  "nbformat": 4,
  "nbformat_minor": 0,
  "metadata": {
    "colab": {
      "provenance": [],
      "authorship_tag": "ABX9TyOFit0e7TXS4pe645X65lmo",
      "include_colab_link": true
    },
    "kernelspec": {
      "name": "python3",
      "display_name": "Python 3"
    },
    "language_info": {
      "name": "python"
    }
  },
  "cells": [
    {
      "cell_type": "markdown",
      "metadata": {
        "id": "view-in-github",
        "colab_type": "text"
      },
      "source": [
        "<a href=\"https://colab.research.google.com/github/lucianarochacosta/data-science-NTTDATA/blob/main/1_datetime.ipynb\" target=\"_parent\"><img src=\"https://colab.research.google.com/assets/colab-badge.svg\" alt=\"Open In Colab\"/></a>"
      ]
    },
    {
      "cell_type": "code",
      "execution_count": 2,
      "metadata": {
        "colab": {
          "base_uri": "https://localhost:8080/"
        },
        "id": "SX4uzWcgVpYs",
        "outputId": "c0a0ee91-3f22-4f7a-f948-d3b81a86df37"
      },
      "outputs": [
        {
          "output_type": "stream",
          "name": "stdout",
          "text": [
            "2024-09-14\n",
            "2024-09-14\n",
            "2024-09-14 00:00:00\n",
            "2024-09-14 16:33:01.650843\n",
            "13:30:00\n"
          ]
        }
      ],
      "source": [
        "from datetime import date, datetime, time\n",
        "\n",
        "data = date(2024, 9, 14)\n",
        "print(data)\n",
        "print(date.today())\n",
        "\n",
        "data_hora = datetime(2024, 9, 14)\n",
        "print(data_hora)\n",
        "print(datetime.today())\n",
        "\n",
        "hora = time(13, 30, 0)\n",
        "print(hora)"
      ]
    }
  ]
}