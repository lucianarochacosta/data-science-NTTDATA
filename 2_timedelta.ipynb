{
  "nbformat": 4,
  "nbformat_minor": 0,
  "metadata": {
    "colab": {
      "provenance": [],
      "authorship_tag": "ABX9TyNYSekCtdqu4q+cw4j+2a4C",
      "include_colab_link": true
    },
    "kernelspec": {
      "name": "python3",
      "display_name": "Python 3"
    },
    "language_info": {
      "name": "python"
    }
  },
  "cells": [
    {
      "cell_type": "markdown",
      "metadata": {
        "id": "view-in-github",
        "colab_type": "text"
      },
      "source": [
        "<a href=\"https://colab.research.google.com/github/lucianarochacosta/data-science-NTTDATA/blob/main/2_timedelta.ipynb\" target=\"_parent\"><img src=\"https://colab.research.google.com/assets/colab-badge.svg\" alt=\"Open In Colab\"/></a>"
      ]
    },
    {
      "cell_type": "code",
      "execution_count": 6,
      "metadata": {
        "colab": {
          "base_uri": "https://localhost:8080/"
        },
        "id": "NUQ7o755YJKH",
        "outputId": "7d96b067-d174-4713-8d47-b81819f31d75"
      },
      "outputs": [
        {
          "output_type": "stream",
          "name": "stdout",
          "text": [
            "O carro chegou: 2024-09-14 16:47:39.786270 e ficará pronto às 2024-09-14 17:47:39.786270\n",
            "2024-09-13\n",
            "12:44:00\n"
          ]
        }
      ],
      "source": [
        "from datetime import datetime, timedelta, date\n",
        "\n",
        "tipo_carro = \"G\"\n",
        "tempo_pequeno = 30\n",
        "tempo_medio = 45\n",
        "tempo_grande = 60\n",
        "data_atual = datetime.now()\n",
        "\n",
        "if tipo_carro == \"P\":\n",
        "    data_estimada = data_atual + timedelta(minutes=tempo_pequeno)\n",
        "    print(f\"O carro chegou: {data_atual} e ficará pronto às {data_estimada}\")\n",
        "elif tipo_carro == \"M\":\n",
        "    data_estimada = data_atual + timedelta(minutes=tempo_medio)\n",
        "    print(f\"O carro chegou: {data_atual} e ficará pronto às {data_estimada}\")\n",
        "else:\n",
        "    data_estimada = data_atual + timedelta(minutes=tempo_grande)\n",
        "    print(f\"O carro chegou: {data_atual} e ficará pronto às {data_estimada}\")\n",
        "\n",
        "print(date.today() - timedelta(days=1))\n",
        "\n",
        "resultado = datetime(2024, 9, 14, 13, 44) - timedelta(hours=1)\n",
        "print(resultado.time())"
      ]
    }
  ]
}